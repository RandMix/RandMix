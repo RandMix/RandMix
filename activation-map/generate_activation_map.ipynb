{
 "cells": [
  {
   "cell_type": "markdown",
   "metadata": {},
   "source": [
    "## Cifar10 Dataset With Activation"
   ]
  },
  {
   "cell_type": "code",
   "execution_count": 2,
   "metadata": {},
   "outputs": [
    {
     "name": "stdout",
     "output_type": "stream",
     "text": [
      "Files already downloaded and verified\n",
      "Files already downloaded and verified\n",
      "100%|████████████████████████████████████| 50000/50000 [05:18<00:00, 156.99it/s]\n",
      "100%|████████████████████████████████████| 10000/10000 [01:03<00:00, 157.21it/s]\n"
     ]
    }
   ],
   "source": [
    "!python main.py --dataset cifar10 --model resnet18 --method gradcam \\\n",
    "    --model_dir ../checkpoints/cifar10-resnet18-baseline.pth \\\n",
    "    --save_dir ../data/cifar10-resnet18-baseline-gradcam"
   ]
  },
  {
   "cell_type": "code",
   "execution_count": 1,
   "metadata": {},
   "outputs": [
    {
     "name": "stdout",
     "output_type": "stream",
     "text": [
      "Files already downloaded and verified\n",
      "Files already downloaded and verified\n",
      "100%|█████████████████████████████████████| 50000/50000 [12:22<00:00, 67.31it/s]\n",
      "100%|█████████████████████████████████████| 10000/10000 [02:26<00:00, 68.44it/s]\n"
     ]
    }
   ],
   "source": [
    "!python main.py --dataset cifar10 --model resnet18 --method eigengradcam \\\n",
    "    --model_dir ../checkpoints/cifar10-resnet18-baseline.pth \\\n",
    "    --save_dir ../data/cifar10-resnet18-baseline-eigengradcam"
   ]
  },
  {
   "cell_type": "markdown",
   "metadata": {},
   "source": [
    "## Cifar100 Dataset With Activation"
   ]
  },
  {
   "cell_type": "code",
   "execution_count": 3,
   "metadata": {},
   "outputs": [
    {
     "name": "stdout",
     "output_type": "stream",
     "text": [
      "Files already downloaded and verified\n",
      "Files already downloaded and verified\n",
      "100%|█████████████████████████████████████| 50000/50000 [08:20<00:00, 99.92it/s]\n",
      "100%|█████████████████████████████████████| 10000/10000 [01:40<00:00, 99.24it/s]\n"
     ]
    }
   ],
   "source": [
    "!python main.py --dataset cifar100 --model resnet18 --method gradcam \\\n",
    "    --model_dir ../checkpoints/cifar100-resnet18-baseline.pth \\\n",
    "    --save_dir ../data/cifar100-resnet18-baseline-gradcam"
   ]
  },
  {
   "cell_type": "code",
   "execution_count": 5,
   "metadata": {},
   "outputs": [
    {
     "name": "stdout",
     "output_type": "stream",
     "text": [
      "Files already downloaded and verified\n",
      "Files already downloaded and verified\n",
      "100%|█████████████████████████████████████| 50000/50000 [12:08<00:00, 68.59it/s]\n",
      "100%|█████████████████████████████████████| 10000/10000 [02:24<00:00, 69.06it/s]\n"
     ]
    }
   ],
   "source": [
    "!python main.py --dataset cifar100 --model resnet18 --method eigengradcam \\\n",
    "    --model_dir ../checkpoints/cifar100-resnet18-baseline.pth \\\n",
    "    --save_dir ../data/cifar100-resnet18-baseline-eigengradcam"
   ]
  },
  {
   "cell_type": "markdown",
   "metadata": {},
   "source": [
    "## ImageNet Dataset With Activation"
   ]
  },
  {
   "cell_type": "code",
   "execution_count": null,
   "metadata": {},
   "outputs": [],
   "source": []
  }
 ],
 "metadata": {
  "interpreter": {
   "hash": "f1e3c1b5dd547bf28d9b53a57eefb287afe78639f0e3e11363ca24b6ef4cf60f"
  },
  "kernelspec": {
   "display_name": "Python 3.9.0 ('semantic-cutmix')",
   "language": "python",
   "name": "python3"
  },
  "language_info": {
   "codemirror_mode": {
    "name": "ipython",
    "version": 3
   },
   "file_extension": ".py",
   "mimetype": "text/x-python",
   "name": "python",
   "nbconvert_exporter": "python",
   "pygments_lexer": "ipython3",
   "version": "3.9.0"
  },
  "orig_nbformat": 4
 },
 "nbformat": 4,
 "nbformat_minor": 2
}
